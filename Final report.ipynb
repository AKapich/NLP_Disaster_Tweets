{
  "cells": [
    {
      "cell_type": "markdown",
      "id": "acbdac8d",
      "metadata": {
        "id": "acbdac8d"
      },
      "source": [
        "# Natural Language Processing with Disaster Tweets"
      ]
    },
    {
      "cell_type": "markdown",
      "id": "8bd3f776",
      "metadata": {
        "id": "8bd3f776"
      },
      "source": [
        "The task was to classify whether tweets concern a natural disaster or not. The dataset comes from https://www.kaggle.com/competitions/nlp-getting-started"
      ]
    },
    {
      "cell_type": "markdown",
      "id": "fad668f9",
      "metadata": {
        "id": "fad668f9"
      },
      "source": [
        "# Dataset overview"
      ]
    },
    {
      "cell_type": "markdown",
      "id": "310cc1bd",
      "metadata": {
        "id": "310cc1bd"
      },
      "source": [
        "First things first - let's take a loot at the dataset to find out what we have to deal with."
      ]
    },
    {
      "cell_type": "code",
      "execution_count": 4,
      "id": "06073d8b",
      "metadata": {
        "colab": {
          "base_uri": "https://localhost:8080/",
          "height": 206
        },
        "id": "06073d8b",
        "outputId": "f7da00a8-f3ea-4ddc-e7d7-46167fb10c40"
      },
      "outputs": [
        {
          "output_type": "execute_result",
          "data": {
            "text/plain": [
              "   id keyword location                                               text  \\\n",
              "0   1     NaN      NaN  Our Deeds are the Reason of this #earthquake M...   \n",
              "1   4     NaN      NaN             Forest fire near La Ronge Sask. Canada   \n",
              "2   5     NaN      NaN  All residents asked to 'shelter in place' are ...   \n",
              "3   6     NaN      NaN  13,000 people receive #wildfires evacuation or...   \n",
              "4   7     NaN      NaN  Just got sent this photo from Ruby #Alaska as ...   \n",
              "\n",
              "   target  \n",
              "0       1  \n",
              "1       1  \n",
              "2       1  \n",
              "3       1  \n",
              "4       1  "
            ],
            "text/html": [
              "\n",
              "  <div id=\"df-ca42c203-3892-477c-a071-351603111394\">\n",
              "    <div class=\"colab-df-container\">\n",
              "      <div>\n",
              "<style scoped>\n",
              "    .dataframe tbody tr th:only-of-type {\n",
              "        vertical-align: middle;\n",
              "    }\n",
              "\n",
              "    .dataframe tbody tr th {\n",
              "        vertical-align: top;\n",
              "    }\n",
              "\n",
              "    .dataframe thead th {\n",
              "        text-align: right;\n",
              "    }\n",
              "</style>\n",
              "<table border=\"1\" class=\"dataframe\">\n",
              "  <thead>\n",
              "    <tr style=\"text-align: right;\">\n",
              "      <th></th>\n",
              "      <th>id</th>\n",
              "      <th>keyword</th>\n",
              "      <th>location</th>\n",
              "      <th>text</th>\n",
              "      <th>target</th>\n",
              "    </tr>\n",
              "  </thead>\n",
              "  <tbody>\n",
              "    <tr>\n",
              "      <th>0</th>\n",
              "      <td>1</td>\n",
              "      <td>NaN</td>\n",
              "      <td>NaN</td>\n",
              "      <td>Our Deeds are the Reason of this #earthquake M...</td>\n",
              "      <td>1</td>\n",
              "    </tr>\n",
              "    <tr>\n",
              "      <th>1</th>\n",
              "      <td>4</td>\n",
              "      <td>NaN</td>\n",
              "      <td>NaN</td>\n",
              "      <td>Forest fire near La Ronge Sask. Canada</td>\n",
              "      <td>1</td>\n",
              "    </tr>\n",
              "    <tr>\n",
              "      <th>2</th>\n",
              "      <td>5</td>\n",
              "      <td>NaN</td>\n",
              "      <td>NaN</td>\n",
              "      <td>All residents asked to 'shelter in place' are ...</td>\n",
              "      <td>1</td>\n",
              "    </tr>\n",
              "    <tr>\n",
              "      <th>3</th>\n",
              "      <td>6</td>\n",
              "      <td>NaN</td>\n",
              "      <td>NaN</td>\n",
              "      <td>13,000 people receive #wildfires evacuation or...</td>\n",
              "      <td>1</td>\n",
              "    </tr>\n",
              "    <tr>\n",
              "      <th>4</th>\n",
              "      <td>7</td>\n",
              "      <td>NaN</td>\n",
              "      <td>NaN</td>\n",
              "      <td>Just got sent this photo from Ruby #Alaska as ...</td>\n",
              "      <td>1</td>\n",
              "    </tr>\n",
              "  </tbody>\n",
              "</table>\n",
              "</div>\n",
              "      <button class=\"colab-df-convert\" onclick=\"convertToInteractive('df-ca42c203-3892-477c-a071-351603111394')\"\n",
              "              title=\"Convert this dataframe to an interactive table.\"\n",
              "              style=\"display:none;\">\n",
              "        \n",
              "  <svg xmlns=\"http://www.w3.org/2000/svg\" height=\"24px\"viewBox=\"0 0 24 24\"\n",
              "       width=\"24px\">\n",
              "    <path d=\"M0 0h24v24H0V0z\" fill=\"none\"/>\n",
              "    <path d=\"M18.56 5.44l.94 2.06.94-2.06 2.06-.94-2.06-.94-.94-2.06-.94 2.06-2.06.94zm-11 1L8.5 8.5l.94-2.06 2.06-.94-2.06-.94L8.5 2.5l-.94 2.06-2.06.94zm10 10l.94 2.06.94-2.06 2.06-.94-2.06-.94-.94-2.06-.94 2.06-2.06.94z\"/><path d=\"M17.41 7.96l-1.37-1.37c-.4-.4-.92-.59-1.43-.59-.52 0-1.04.2-1.43.59L10.3 9.45l-7.72 7.72c-.78.78-.78 2.05 0 2.83L4 21.41c.39.39.9.59 1.41.59.51 0 1.02-.2 1.41-.59l7.78-7.78 2.81-2.81c.8-.78.8-2.07 0-2.86zM5.41 20L4 18.59l7.72-7.72 1.47 1.35L5.41 20z\"/>\n",
              "  </svg>\n",
              "      </button>\n",
              "      \n",
              "  <style>\n",
              "    .colab-df-container {\n",
              "      display:flex;\n",
              "      flex-wrap:wrap;\n",
              "      gap: 12px;\n",
              "    }\n",
              "\n",
              "    .colab-df-convert {\n",
              "      background-color: #E8F0FE;\n",
              "      border: none;\n",
              "      border-radius: 50%;\n",
              "      cursor: pointer;\n",
              "      display: none;\n",
              "      fill: #1967D2;\n",
              "      height: 32px;\n",
              "      padding: 0 0 0 0;\n",
              "      width: 32px;\n",
              "    }\n",
              "\n",
              "    .colab-df-convert:hover {\n",
              "      background-color: #E2EBFA;\n",
              "      box-shadow: 0px 1px 2px rgba(60, 64, 67, 0.3), 0px 1px 3px 1px rgba(60, 64, 67, 0.15);\n",
              "      fill: #174EA6;\n",
              "    }\n",
              "\n",
              "    [theme=dark] .colab-df-convert {\n",
              "      background-color: #3B4455;\n",
              "      fill: #D2E3FC;\n",
              "    }\n",
              "\n",
              "    [theme=dark] .colab-df-convert:hover {\n",
              "      background-color: #434B5C;\n",
              "      box-shadow: 0px 1px 3px 1px rgba(0, 0, 0, 0.15);\n",
              "      filter: drop-shadow(0px 1px 2px rgba(0, 0, 0, 0.3));\n",
              "      fill: #FFFFFF;\n",
              "    }\n",
              "  </style>\n",
              "\n",
              "      <script>\n",
              "        const buttonEl =\n",
              "          document.querySelector('#df-ca42c203-3892-477c-a071-351603111394 button.colab-df-convert');\n",
              "        buttonEl.style.display =\n",
              "          google.colab.kernel.accessAllowed ? 'block' : 'none';\n",
              "\n",
              "        async function convertToInteractive(key) {\n",
              "          const element = document.querySelector('#df-ca42c203-3892-477c-a071-351603111394');\n",
              "          const dataTable =\n",
              "            await google.colab.kernel.invokeFunction('convertToInteractive',\n",
              "                                                     [key], {});\n",
              "          if (!dataTable) return;\n",
              "\n",
              "          const docLinkHtml = 'Like what you see? Visit the ' +\n",
              "            '<a target=\"_blank\" href=https://colab.research.google.com/notebooks/data_table.ipynb>data table notebook</a>'\n",
              "            + ' to learn more about interactive tables.';\n",
              "          element.innerHTML = '';\n",
              "          dataTable['output_type'] = 'display_data';\n",
              "          await google.colab.output.renderOutput(dataTable, element);\n",
              "          const docLink = document.createElement('div');\n",
              "          docLink.innerHTML = docLinkHtml;\n",
              "          element.appendChild(docLink);\n",
              "        }\n",
              "      </script>\n",
              "    </div>\n",
              "  </div>\n",
              "  "
            ]
          },
          "metadata": {},
          "execution_count": 4
        }
      ],
      "source": [
        "import pandas as pd\n",
        "\n",
        "train_df = pd.read_csv('train.csv')\n",
        "train_df.head()"
      ]
    },
    {
      "cell_type": "markdown",
      "id": "f239ef77",
      "metadata": {
        "id": "f239ef77"
      },
      "source": [
        "The dataset consists of 4 columns, one of which being redundant (id), and the target. One can easily see that `keyword` and `location` are likely to be null."
      ]
    },
    {
      "cell_type": "code",
      "execution_count": 2,
      "id": "09448e24",
      "metadata": {
        "colab": {
          "base_uri": "https://localhost:8080/"
        },
        "id": "09448e24",
        "outputId": "411beb65-efcd-4ede-f4dc-78442756ff65"
      },
      "outputs": [
        {
          "output_type": "stream",
          "name": "stdout",
          "text": [
            "\n",
            "Rows in total: 7613\n",
            "Rows with no keyword: 61\n",
            "Rows with no location: 2533\n",
            "Rows with no text: 0\n",
            "\n"
          ]
        }
      ],
      "source": [
        "print(f'''\n",
        "Rows in total: {len(train_df)}\n",
        "Rows with no keyword: {len(train_df[train_df['keyword'].isna()])}\n",
        "Rows with no location: {len(train_df[train_df['location'].isna()])}\n",
        "Rows with no text: {len(train_df[train_df['text'].isna()])}\n",
        "''')"
      ]
    },
    {
      "cell_type": "markdown",
      "id": "a2fe0e30",
      "metadata": {
        "id": "a2fe0e30"
      },
      "source": [
        "Fortunately keyword is missing in only 61 rows and the location is present in most of the samples."
      ]
    },
    {
      "cell_type": "markdown",
      "id": "abd2a683",
      "metadata": {
        "id": "abd2a683"
      },
      "source": [
        "# Initial approach - Random Forest"
      ]
    },
    {
      "cell_type": "markdown",
      "id": "f6b91d81",
      "metadata": {
        "id": "f6b91d81"
      },
      "source": [
        "We decided to start off with something simple and try to find an efficient solution that would not involve neural networks. "
      ]
    },
    {
      "cell_type": "markdown",
      "id": "690cee83",
      "metadata": {
        "id": "690cee83"
      },
      "source": [
        "## Preprocessing"
      ]
    },
    {
      "cell_type": "markdown",
      "id": "3a251a6d",
      "metadata": {
        "id": "3a251a6d"
      },
      "source": [
        "As classifiers only operate on numeric values, the first challenge was to convert our text input into valid input. Having no prior experience with NLP, we focused mostly on creating metadata related columns."
      ]
    },
    {
      "cell_type": "code",
      "execution_count": 5,
      "id": "d8b7c096",
      "metadata": {
        "colab": {
          "base_uri": "https://localhost:8080/"
        },
        "id": "d8b7c096",
        "outputId": "142726fe-b34f-474d-a574-8e5c9cf869da"
      },
      "outputs": [
        {
          "output_type": "stream",
          "name": "stderr",
          "text": [
            "[nltk_data] Downloading package wordnet to /root/nltk_data...\n",
            "[nltk_data] Downloading package vader_lexicon to /root/nltk_data...\n"
          ]
        }
      ],
      "source": [
        "import pandas as pd\n",
        "from statistics import mean\n",
        "import nltk\n",
        "from nltk.sentiment import SentimentIntensityAnalyzer\n",
        "from nltk.stem import WordNetLemmatizer\n",
        "nltk.download('wordnet')\n",
        "nltk.download('vader_lexicon')\n",
        "\n",
        "def count_capital_letters_part(text):\n",
        "    capital_letters = 0\n",
        "    c: str\n",
        "    for c in text:\n",
        "        if c.isupper():\n",
        "            capital_letters += 1\n",
        "\n",
        "    return capital_letters / len(text) if len(text) > 0 else 0\n",
        "    \n",
        "def avg_word_length(text):\n",
        "    return mean([len(word) for word in text.split()])\n",
        "\n",
        "def calc_compound_sentiment(text):\n",
        "    if len(text) == 0:\n",
        "        return 0\n",
        "    \n",
        "    return SentimentIntensityAnalyzer().polarity_scores(text)['compound']\n",
        "\n",
        "\n",
        "def calc_location_credibility(loc):\n",
        "    words = loc.split()\n",
        "\n",
        "    if len(words) == 0:\n",
        "        return 0\n",
        "\n",
        "    score = 0\n",
        "    for word in words:\n",
        "        if word[0].isupper():\n",
        "            score += 1\n",
        "        else:\n",
        "            score -= 1\n",
        "    \n",
        "    return score / len(words)\n",
        "\n",
        "def calculate_top_keywords(df, y):\n",
        "    top_target_keywords = df[y==1].keyword.value_counts().head(100)\n",
        "    top_non_target_keywords = df[y==0].keyword.value_counts().head(100)\n",
        "\n",
        "    words_1 = set(list(top_target_keywords.index))\n",
        "    words_0 = set(list(top_non_target_keywords.index))\n",
        "    intersection = list(words_1.intersection(words_0)) # identification of ambigual keywords\n",
        "\n",
        "    top_target_keywords = top_target_keywords.drop(intersection)\n",
        "    top_non_target_keywords = top_non_target_keywords.drop(intersection)\n",
        "    \n",
        "    return top_target_keywords, top_non_target_keywords\n",
        "\n",
        "\n",
        "def generate_columns(df):\n",
        "    _df = df.copy()\n",
        "    generated_df = pd.DataFrame()\n",
        "    _df[['keyword', 'location']] = _df[['keyword', 'location']].fillna(value='')\n",
        "    _df['keyword'] = _df['keyword'].str.replace('%20', ' ') # %20 is actually a space but we don't want it\n",
        "    \n",
        "    top_target_keywords, top_non_target_keywords = calculate_top_keywords(X_train, y_train)\n",
        "    \n",
        "    generated_df['text_length'] = _df['text'].str.len()\n",
        "    generated_df['capital_letters_part'] = _df['text'].apply(count_capital_letters_part)\n",
        "    generated_df['avg_word_length'] = _df['text'].apply(avg_word_length)\n",
        "    generated_df['sentiment'] = _df['text'].apply(calc_compound_sentiment)\n",
        "    generated_df['hashtag_count'] = _df['text'].apply(lambda text: text.count('#'))\n",
        "    generated_df['punctuation_marks_per_char'] = _df['text'].apply(lambda text: (text.count('?') + text.count('!') + text.count('.')) / len(text))\n",
        "    generated_df['keyword_sentiment'] = _df['keyword'].apply(calc_compound_sentiment)\n",
        "    generated_df['location_credibility'] = _df['location'].apply(calc_location_credibility)\n",
        "    generated_df['target_keyword'] = _df['keyword'].apply(lambda keyword: keyword in top_target_keywords)\n",
        "    generated_df['non_target_keyword'] = _df['keyword'].apply(lambda keyword: keyword in top_non_target_keywords)\n",
        "\n",
        "    return generated_df\n",
        "\n"
      ]
    },
    {
      "cell_type": "markdown",
      "id": "26c98abe",
      "metadata": {
        "id": "26c98abe"
      },
      "source": [
        "The most important of the functions above is the last one, which does the actual job of creating a new dataframe with numeric values based on the source dataframe.\n",
        "Most of the columns are self-explanatory, except for a few of them:\n",
        "- keyword_sentiment - overall (\"compound\") sentiment of text calculated using `SentimentIntensityAnalyzer` from `nltk` package\n",
        "- location_credibility - this is a factor based on an observation, that strings in which each word starts with a capital letter are more likely to be a real location\n",
        "- target_keyword - tells whether the keyword if the sample is among the top 100 keywords for samples with target equal to 1\n",
        "- non_target_keyword - same as the previous one but for samples with target equal to 0"
      ]
    },
    {
      "cell_type": "markdown",
      "id": "fe630eda",
      "metadata": {
        "id": "fe630eda"
      },
      "source": [
        "## Standardization"
      ]
    },
    {
      "cell_type": "code",
      "execution_count": 5,
      "id": "61002aa9",
      "metadata": {
        "id": "61002aa9"
      },
      "outputs": [],
      "source": [
        "from sklearn.preprocessing import StandardScaler\n",
        "\n",
        "def standardize(X):\n",
        "  scaler = StandardScaler()\n",
        "  return scaler.fit_transform(X)"
      ]
    },
    {
      "cell_type": "markdown",
      "id": "545afef1",
      "metadata": {
        "id": "545afef1"
      },
      "source": [
        "## Preprocess function"
      ]
    },
    {
      "cell_type": "code",
      "execution_count": 6,
      "id": "46fa41a6",
      "metadata": {
        "id": "46fa41a6"
      },
      "outputs": [],
      "source": [
        "def preprocess(X):\n",
        "    _X = X.copy()\n",
        "    _X = _X.iloc[:, 1:] # we don't want to include id as it should affect predictions\n",
        "    _X = generate_columns(_X)\n",
        "    _X = standardize(_X)\n",
        "    return _X"
      ]
    },
    {
      "cell_type": "markdown",
      "id": "fc185434",
      "metadata": {
        "id": "fc185434"
      },
      "source": [
        "## Building the model"
      ]
    },
    {
      "cell_type": "code",
      "execution_count": 14,
      "id": "efc10625",
      "metadata": {
        "colab": {
          "base_uri": "https://localhost:8080/",
          "height": 235
        },
        "id": "efc10625",
        "outputId": "999b0f47-dfc4-4c76-988e-957659f7cfbf"
      },
      "outputs": [
        {
          "output_type": "error",
          "ename": "NameError",
          "evalue": "ignored",
          "traceback": [
            "\u001b[0;31m---------------------------------------------------------------------------\u001b[0m",
            "\u001b[0;31mNameError\u001b[0m                                 Traceback (most recent call last)",
            "\u001b[0;32m<ipython-input-14-3f01ead84ecb>\u001b[0m in \u001b[0;36m<cell line: 12>\u001b[0;34m()\u001b[0m\n\u001b[1;32m     10\u001b[0m                                                 test_size=0.3)\n\u001b[1;32m     11\u001b[0m \u001b[0;34m\u001b[0m\u001b[0m\n\u001b[0;32m---> 12\u001b[0;31m \u001b[0mX_train_preprocessed\u001b[0m \u001b[0;34m=\u001b[0m \u001b[0mpreprocess\u001b[0m\u001b[0;34m(\u001b[0m\u001b[0mX_train\u001b[0m\u001b[0;34m)\u001b[0m\u001b[0;34m\u001b[0m\u001b[0;34m\u001b[0m\u001b[0m\n\u001b[0m\u001b[1;32m     13\u001b[0m \u001b[0;34m\u001b[0m\u001b[0m\n\u001b[1;32m     14\u001b[0m \u001b[0mmodel\u001b[0m \u001b[0;34m=\u001b[0m \u001b[0mRandomForestClassifier\u001b[0m\u001b[0;34m(\u001b[0m\u001b[0;34m)\u001b[0m\u001b[0;34m\u001b[0m\u001b[0;34m\u001b[0m\u001b[0m\n",
            "\u001b[0;31mNameError\u001b[0m: name 'preprocess' is not defined"
          ]
        }
      ],
      "source": [
        "from sklearn.model_selection import train_test_split\n",
        "from sklearn.ensemble import RandomForestClassifier\n",
        "\n",
        "df = pd.read_csv('train.csv')\n",
        "X = df.iloc[:, :-1] \n",
        "y = df.iloc[:, -1]\n",
        "\n",
        "X_train, X_test, y_train, y_test = train_test_split(X, y,\n",
        "                                                stratify=y, \n",
        "                                                test_size=0.3)\n",
        "\n",
        "X_train_preprocessed = preprocess(X_train)\n",
        "\n",
        "model = RandomForestClassifier()\n",
        "model.fit(X_train_preprocessed, y_train)"
      ]
    },
    {
      "cell_type": "markdown",
      "id": "c0c35eb7",
      "metadata": {
        "id": "c0c35eb7"
      },
      "source": [
        "## Prediction"
      ]
    },
    {
      "cell_type": "code",
      "execution_count": null,
      "id": "0919c174",
      "metadata": {
        "scrolled": true,
        "id": "0919c174",
        "outputId": "254d9b0c-ac50-4a59-9621-b536c6faad92"
      },
      "outputs": [
        {
          "name": "stdout",
          "output_type": "stream",
          "text": [
            "              precision    recall  f1-score   support\n",
            "\n",
            "           0       0.74      0.82      0.78      1303\n",
            "           1       0.72      0.62      0.67       981\n",
            "\n",
            "    accuracy                           0.74      2284\n",
            "   macro avg       0.73      0.72      0.73      2284\n",
            "weighted avg       0.73      0.74      0.73      2284\n",
            "\n"
          ]
        }
      ],
      "source": [
        "from sklearn.metrics import classification_report\n",
        "\n",
        "X_test_preprocessed = preprocess(X_test)\n",
        "y_pred = model.predict(X_test_preprocessed)\n",
        "\n",
        "print(classification_report(y_test, y_pred))"
      ]
    },
    {
      "cell_type": "markdown",
      "id": "929b4b87",
      "metadata": {
        "id": "929b4b87"
      },
      "source": [
        "# Second approach - Tfidf"
      ]
    },
    {
      "cell_type": "code",
      "execution_count": null,
      "id": "86b9be8e",
      "metadata": {
        "id": "86b9be8e"
      },
      "outputs": [],
      "source": [
        "from sklearn.feature_extraction.text import TfidfVectorizer\n",
        "from sklearn.feature_extraction.text import ENGLISH_STOP_WORDS\n",
        "\n",
        "\n",
        "def tfidf(column: pd.Series) -> tuple[TfidfVectorizer, pd.DataFrame]:\n",
        "    vectorizer = TfidfVectorizer(token_pattern=r'(?u)\\b[A-Za-z]+\\b', # exclude digits\n",
        "                                 stop_words=list(ENGLISH_STOP_WORDS)) # exclude stop words\n",
        "    sparse_matrix = vectorizer.fit_transform(column.str.lower())\n",
        "    feature_names = vectorizer.get_feature_names_out()\n",
        "    \n",
        "    return vectorizer, pd.DataFrame.sparse.from_spmatrix(sparse_matrix, columns=feature_names)\n",
        "\n",
        "def generate_tfidf_columns(df) -> tuple[pd.DataFrame, TfidfVectorizer]:\n",
        "    _df = df.copy()\n",
        "    text_vectorizer, text_tfidf = tfidf(_df['text'])\n",
        "    \n",
        "    return text_tfidf, text_vectorizer\n",
        "\n",
        "def apply_vectorizer_to_test(X_test: pd.DataFrame, text_vectorizer) -> pd.DataFrame:   \n",
        "    vectorized_text = text_vectorizer.transform(X_test['text'])\n",
        "    X_text = pd.DataFrame.sparse.from_spmatrix(vectorized_text, \n",
        "                                               columns=text_vectorizer.get_feature_names_out())\n",
        "    \n",
        "    return X_text"
      ]
    },
    {
      "cell_type": "code",
      "execution_count": null,
      "id": "9d12fd4b",
      "metadata": {
        "id": "9d12fd4b",
        "outputId": "006deed3-28e9-4408-c8ff-2d7661d827a3"
      },
      "outputs": [
        {
          "data": {
            "text/html": [
              "<style>#sk-container-id-10 {color: black;background-color: white;}#sk-container-id-10 pre{padding: 0;}#sk-container-id-10 div.sk-toggleable {background-color: white;}#sk-container-id-10 label.sk-toggleable__label {cursor: pointer;display: block;width: 100%;margin-bottom: 0;padding: 0.3em;box-sizing: border-box;text-align: center;}#sk-container-id-10 label.sk-toggleable__label-arrow:before {content: \"▸\";float: left;margin-right: 0.25em;color: #696969;}#sk-container-id-10 label.sk-toggleable__label-arrow:hover:before {color: black;}#sk-container-id-10 div.sk-estimator:hover label.sk-toggleable__label-arrow:before {color: black;}#sk-container-id-10 div.sk-toggleable__content {max-height: 0;max-width: 0;overflow: hidden;text-align: left;background-color: #f0f8ff;}#sk-container-id-10 div.sk-toggleable__content pre {margin: 0.2em;color: black;border-radius: 0.25em;background-color: #f0f8ff;}#sk-container-id-10 input.sk-toggleable__control:checked~div.sk-toggleable__content {max-height: 200px;max-width: 100%;overflow: auto;}#sk-container-id-10 input.sk-toggleable__control:checked~label.sk-toggleable__label-arrow:before {content: \"▾\";}#sk-container-id-10 div.sk-estimator input.sk-toggleable__control:checked~label.sk-toggleable__label {background-color: #d4ebff;}#sk-container-id-10 div.sk-label input.sk-toggleable__control:checked~label.sk-toggleable__label {background-color: #d4ebff;}#sk-container-id-10 input.sk-hidden--visually {border: 0;clip: rect(1px 1px 1px 1px);clip: rect(1px, 1px, 1px, 1px);height: 1px;margin: -1px;overflow: hidden;padding: 0;position: absolute;width: 1px;}#sk-container-id-10 div.sk-estimator {font-family: monospace;background-color: #f0f8ff;border: 1px dotted black;border-radius: 0.25em;box-sizing: border-box;margin-bottom: 0.5em;}#sk-container-id-10 div.sk-estimator:hover {background-color: #d4ebff;}#sk-container-id-10 div.sk-parallel-item::after {content: \"\";width: 100%;border-bottom: 1px solid gray;flex-grow: 1;}#sk-container-id-10 div.sk-label:hover label.sk-toggleable__label {background-color: #d4ebff;}#sk-container-id-10 div.sk-serial::before {content: \"\";position: absolute;border-left: 1px solid gray;box-sizing: border-box;top: 0;bottom: 0;left: 50%;z-index: 0;}#sk-container-id-10 div.sk-serial {display: flex;flex-direction: column;align-items: center;background-color: white;padding-right: 0.2em;padding-left: 0.2em;position: relative;}#sk-container-id-10 div.sk-item {position: relative;z-index: 1;}#sk-container-id-10 div.sk-parallel {display: flex;align-items: stretch;justify-content: center;background-color: white;position: relative;}#sk-container-id-10 div.sk-item::before, #sk-container-id-10 div.sk-parallel-item::before {content: \"\";position: absolute;border-left: 1px solid gray;box-sizing: border-box;top: 0;bottom: 0;left: 50%;z-index: -1;}#sk-container-id-10 div.sk-parallel-item {display: flex;flex-direction: column;z-index: 1;position: relative;background-color: white;}#sk-container-id-10 div.sk-parallel-item:first-child::after {align-self: flex-end;width: 50%;}#sk-container-id-10 div.sk-parallel-item:last-child::after {align-self: flex-start;width: 50%;}#sk-container-id-10 div.sk-parallel-item:only-child::after {width: 0;}#sk-container-id-10 div.sk-dashed-wrapped {border: 1px dashed gray;margin: 0 0.4em 0.5em 0.4em;box-sizing: border-box;padding-bottom: 0.4em;background-color: white;}#sk-container-id-10 div.sk-label label {font-family: monospace;font-weight: bold;display: inline-block;line-height: 1.2em;}#sk-container-id-10 div.sk-label-container {text-align: center;}#sk-container-id-10 div.sk-container {/* jupyter's `normalize.less` sets `[hidden] { display: none; }` but bootstrap.min.css set `[hidden] { display: none !important; }` so we also need the `!important` here to be able to override the default hidden behavior on the sphinx rendered scikit-learn.org. See: https://github.com/scikit-learn/scikit-learn/issues/21755 */display: inline-block !important;position: relative;}#sk-container-id-10 div.sk-text-repr-fallback {display: none;}</style><div id=\"sk-container-id-10\" class=\"sk-top-container\"><div class=\"sk-text-repr-fallback\"><pre>RandomForestClassifier()</pre><b>In a Jupyter environment, please rerun this cell to show the HTML representation or trust the notebook. <br />On GitHub, the HTML representation is unable to render, please try loading this page with nbviewer.org.</b></div><div class=\"sk-container\" hidden><div class=\"sk-item\"><div class=\"sk-estimator sk-toggleable\"><input class=\"sk-toggleable__control sk-hidden--visually\" id=\"sk-estimator-id-10\" type=\"checkbox\" checked><label for=\"sk-estimator-id-10\" class=\"sk-toggleable__label sk-toggleable__label-arrow\">RandomForestClassifier</label><div class=\"sk-toggleable__content\"><pre>RandomForestClassifier()</pre></div></div></div></div></div>"
            ],
            "text/plain": [
              "RandomForestClassifier()"
            ]
          },
          "execution_count": 112,
          "metadata": {},
          "output_type": "execute_result"
        }
      ],
      "source": [
        "X_train_tfidf, text_vectorizer = generate_tfidf_columns(X_train)\n",
        "\n",
        "tfidf_classifier = RandomForestClassifier()\n",
        "\n",
        "tfidf_classifier.fit(X_train_tfidf, y_train)"
      ]
    },
    {
      "cell_type": "code",
      "execution_count": null,
      "id": "ba54af5c",
      "metadata": {
        "scrolled": true,
        "id": "ba54af5c"
      },
      "outputs": [],
      "source": [
        "X_test_tfidf = apply_vectorizer_to_test(X_test, text_vectorizer)\n",
        "y_pred_tfidf = tfidf_classifier.predict(X_test_tfidf)"
      ]
    },
    {
      "cell_type": "code",
      "execution_count": null,
      "id": "5e6a005a",
      "metadata": {
        "id": "5e6a005a",
        "outputId": "4eac19cd-43a6-45c2-fa3e-ec58f2b2b19f"
      },
      "outputs": [
        {
          "name": "stdout",
          "output_type": "stream",
          "text": [
            "              precision    recall  f1-score   support\n",
            "\n",
            "           0       0.75      0.93      0.83      1303\n",
            "           1       0.86      0.59      0.70       981\n",
            "\n",
            "    accuracy                           0.78      2284\n",
            "   macro avg       0.80      0.76      0.77      2284\n",
            "weighted avg       0.80      0.78      0.77      2284\n",
            "\n"
          ]
        }
      ],
      "source": [
        "print(classification_report(y_test, y_pred_tfidf))"
      ]
    },
    {
      "cell_type": "markdown",
      "id": "f1c9abcc",
      "metadata": {
        "id": "f1c9abcc"
      },
      "source": [
        "Tfidf seemes to be slightly more accurate than the previous approach."
      ]
    },
    {
      "cell_type": "markdown",
      "source": [
        "#Third approach - BERT\n",
        "We have come to the conclusion that achieving better results will probably only be possible if we use neural networks. Here we decided to use one of the most popular transformers for NLP - Bidirectional Encoder Representations from Transformers (BERT)."
      ],
      "metadata": {
        "id": "Hd-r20ustGsK"
      },
      "id": "Hd-r20ustGsK"
    },
    {
      "cell_type": "markdown",
      "source": [
        "##Preprocessing\n"
      ],
      "metadata": {
        "id": "kkjh_Bo_2MMm"
      },
      "id": "kkjh_Bo_2MMm"
    },
    {
      "cell_type": "code",
      "source": [
        "nltk.download('punkt')\n",
        "import re\n",
        "import tensorflow as tf\n",
        "from datasets import Dataset\n",
        "from transformers import AutoTokenizer\n",
        "from transformers import DataCollatorWithPadding\n",
        "import evaluate\n",
        "from transformers import create_optimizer\n",
        "from transformers import TFAutoModelForSequenceClassification\n",
        "from transformers.keras_callbacks import KerasMetricCallback\n",
        "from transformers import pipeline"
      ],
      "metadata": {
        "colab": {
          "base_uri": "https://localhost:8080/"
        },
        "id": "LkwR4DCAuAe8",
        "outputId": "723c7f8a-04cc-430d-bcac-cd5447af4d2c"
      },
      "id": "LkwR4DCAuAe8",
      "execution_count": 51,
      "outputs": [
        {
          "output_type": "stream",
          "name": "stderr",
          "text": [
            "[nltk_data] Downloading package punkt to /root/nltk_data...\n",
            "[nltk_data]   Package punkt is already up-to-date!\n"
          ]
        }
      ]
    },
    {
      "cell_type": "code",
      "source": [
        "df = pd.read_csv('train.csv')"
      ],
      "metadata": {
        "id": "SWPmnM28yN-l"
      },
      "id": "SWPmnM28yN-l",
      "execution_count": 52,
      "outputs": []
    },
    {
      "cell_type": "code",
      "source": [
        "def removeURL(dataframe):\n",
        "  _dataframe = dataframe.copy()\n",
        "  _dataframe['text'] = _dataframe['text'].replace(r'http\\S+', '', regex=True).replace(r'www\\S+', '', regex=True) \n",
        "  return _dataframe"
      ],
      "metadata": {
        "id": "WUqIprkIvUZj"
      },
      "id": "WUqIprkIvUZj",
      "execution_count": 53,
      "outputs": []
    },
    {
      "cell_type": "markdown",
      "source": [
        "When using BERT for NLP, little preprocessing is required as the model can acquire information from punctuation, and to some extent also from numbers. Therefore we decided to limit preprocessing to removing URLs from the tweets as they do not contain any information that could benefit our model."
      ],
      "metadata": {
        "id": "_5Jtn1mKTpdl"
      },
      "id": "_5Jtn1mKTpdl"
    },
    {
      "cell_type": "code",
      "source": [
        "df_clean = removeURL(df)"
      ],
      "metadata": {
        "id": "8XFw1A-iyhTY"
      },
      "id": "8XFw1A-iyhTY",
      "execution_count": 54,
      "outputs": []
    },
    {
      "cell_type": "code",
      "source": [
        "df_clean = df_clean.rename(columns = {\"target\":\"label\"})\n",
        "y = df_clean['label']\n",
        "X = df_clean['text']\n",
        "X_train, X_test, y_train, y_test = train_test_split(X, y, test_size=.25, random_state=123)\n",
        "train_dataset = pd.concat([X_train, y_train], axis = 1)\n",
        "test_dataset = pd.concat([X_test, y_test], axis = 1)\n",
        "train_dataset = Dataset.from_pandas(train_dataset)\n",
        "test_dataset = Dataset.from_pandas(test_dataset)"
      ],
      "metadata": {
        "id": "-V0fMDGdziHj"
      },
      "id": "-V0fMDGdziHj",
      "execution_count": 55,
      "outputs": []
    },
    {
      "cell_type": "code",
      "source": [
        "tokenizer = AutoTokenizer.from_pretrained(\"distilbert-base-uncased\")\n",
        "\n",
        "def preprocess_function(examples):\n",
        "    return tokenizer(examples[\"text\"], truncation=True)"
      ],
      "metadata": {
        "id": "lWHbjUCczj_B"
      },
      "id": "lWHbjUCczj_B",
      "execution_count": 56,
      "outputs": []
    },
    {
      "cell_type": "code",
      "source": [
        "tokenized_train_dataset = train_dataset.map(preprocess_function, batched = True)\n",
        "tokenized_test_dataset = test_dataset.map(preprocess_function, batched = True)"
      ],
      "metadata": {
        "colab": {
          "base_uri": "https://localhost:8080/",
          "height": 17,
          "referenced_widgets": [
            "b497f1937db14049a5dfdf14bc548ef4",
            "e0640ed6d1a447fa8777c6aa277ddc4f",
            "284e137710a34d33af5d74ee3aa51771",
            "0dfc0e5728614d92af9bfe7ba12a5a49",
            "c04b451823524cc69e2633ebecfb3f4f",
            "b7f76dec16da40059cda2f6ebcf23805",
            "e2e77aaa64ce4786ad1ab2f5bf1ae7f2",
            "f98dadb811294eeaa894576b75e0a3f5",
            "49c50e6aa1bd4fcaa85af2c149d16fc6",
            "a0591e14c657450190a4a7261c2dd2ea",
            "d717c0869bb948c7ae7c8bb3310a52ba",
            "1bbfb7e5d18b4855a7bc5a8f27818a9e",
            "cb37433de0c44e5182baf55da31caa5d",
            "3647fec9adca4b26aa62d81c566a3cd6",
            "352e62452180430abd3059d9688f2ba5",
            "e044527e34d943dab985716734702f14",
            "71685e43c5794ffeab6a23f192357e52",
            "f2ba8085fb37463f95bcd2f4dd240432",
            "43f3b8f863a64321b166f758e8d8af2f",
            "ea84ede4250342efb3d3748ee283444f",
            "6c97941090244bb899045eeb6cf6c06b",
            "401a4f7445c744abbe40adcbc602467b"
          ]
        },
        "id": "Uj90nEGe3RZl",
        "outputId": "1894b0ad-cb88-42a8-ed57-bd4532267097"
      },
      "id": "Uj90nEGe3RZl",
      "execution_count": 57,
      "outputs": [
        {
          "output_type": "display_data",
          "data": {
            "text/plain": [
              "Map:   0%|          | 0/5709 [00:00<?, ? examples/s]"
            ],
            "application/vnd.jupyter.widget-view+json": {
              "version_major": 2,
              "version_minor": 0,
              "model_id": "b497f1937db14049a5dfdf14bc548ef4"
            }
          },
          "metadata": {}
        },
        {
          "output_type": "display_data",
          "data": {
            "text/plain": [
              "Map:   0%|          | 0/1904 [00:00<?, ? examples/s]"
            ],
            "application/vnd.jupyter.widget-view+json": {
              "version_major": 2,
              "version_minor": 0,
              "model_id": "1bbfb7e5d18b4855a7bc5a8f27818a9e"
            }
          },
          "metadata": {}
        }
      ]
    },
    {
      "cell_type": "markdown",
      "source": [
        "##Buiilding the model"
      ],
      "metadata": {
        "id": "GRsUBxKn3U-E"
      },
      "id": "GRsUBxKn3U-E"
    },
    {
      "cell_type": "code",
      "source": [
        "data_collator = DataCollatorWithPadding(tokenizer=tokenizer, return_tensors=\"tf\")\n",
        "accuracy = evaluate.load(\"accuracy\")"
      ],
      "metadata": {
        "id": "BgKUOAEV0i8M"
      },
      "id": "BgKUOAEV0i8M",
      "execution_count": 84,
      "outputs": []
    },
    {
      "cell_type": "code",
      "source": [
        "import numpy as np\n",
        "def compute_metrics(eval_pred):\n",
        "    predictions, labels = eval_pred\n",
        "    predictions = np.argmax(predictions, axis=1)\n",
        "    return accuracy.compute(predictions=predictions, references=labels)\n",
        "\n",
        "id2label = {0: \"FALSE\", 1: \"TRUE\"}\n",
        "label2id = {\"FALSE\": 0, \"TRUE\": 1}"
      ],
      "metadata": {
        "id": "b66z-MRF0mMK"
      },
      "id": "b66z-MRF0mMK",
      "execution_count": 85,
      "outputs": []
    },
    {
      "cell_type": "code",
      "source": [
        "batch_size = 16\n",
        "num_epochs = 3\n",
        "batches_per_epoch = len(tokenized_train_dataset)\n",
        "total_train_steps = int(batches_per_epoch * num_epochs)\n",
        "optimizer, schedule = create_optimizer(init_lr=2e-5, num_warmup_steps=0, num_train_steps=total_train_steps)"
      ],
      "metadata": {
        "id": "ri1MFUi41254"
      },
      "id": "ri1MFUi41254",
      "execution_count": 86,
      "outputs": []
    },
    {
      "cell_type": "code",
      "source": [
        "model = TFAutoModelForSequenceClassification.from_pretrained(\n",
        "    \"distilbert-base-uncased\", num_labels=2, id2label=id2label, label2id=label2id)"
      ],
      "metadata": {
        "colab": {
          "base_uri": "https://localhost:8080/"
        },
        "id": "Dpowryoh3agP",
        "outputId": "cf32d5ba-626e-4052-94f5-5e6c3113bae7"
      },
      "id": "Dpowryoh3agP",
      "execution_count": 87,
      "outputs": [
        {
          "output_type": "stream",
          "name": "stderr",
          "text": [
            "Some layers from the model checkpoint at distilbert-base-uncased were not used when initializing TFDistilBertForSequenceClassification: ['activation_13', 'vocab_layer_norm', 'vocab_projector', 'vocab_transform']\n",
            "- This IS expected if you are initializing TFDistilBertForSequenceClassification from the checkpoint of a model trained on another task or with another architecture (e.g. initializing a BertForSequenceClassification model from a BertForPreTraining model).\n",
            "- This IS NOT expected if you are initializing TFDistilBertForSequenceClassification from the checkpoint of a model that you expect to be exactly identical (initializing a BertForSequenceClassification model from a BertForSequenceClassification model).\n",
            "Some layers of TFDistilBertForSequenceClassification were not initialized from the model checkpoint at distilbert-base-uncased and are newly initialized: ['pre_classifier', 'dropout_119', 'classifier']\n",
            "You should probably TRAIN this model on a down-stream task to be able to use it for predictions and inference.\n"
          ]
        }
      ]
    },
    {
      "cell_type": "code",
      "source": [
        "tf_train_set = model.prepare_tf_dataset(\n",
        "    tokenized_train_dataset,\n",
        "    shuffle=True,\n",
        "    batch_size=16,\n",
        "    collate_fn=data_collator,\n",
        ")\n",
        "tf_validation_set = model.prepare_tf_dataset(\n",
        "    tokenized_test_dataset,\n",
        "    shuffle=False,\n",
        "    batch_size=16,\n",
        "    collate_fn=data_collator,\n",
        ")"
      ],
      "metadata": {
        "id": "xtJwbwBG3jOl"
      },
      "id": "xtJwbwBG3jOl",
      "execution_count": 88,
      "outputs": []
    },
    {
      "cell_type": "code",
      "source": [
        "model.compile(optimizer=optimizer, metrics=['accuracy'])"
      ],
      "metadata": {
        "colab": {
          "base_uri": "https://localhost:8080/"
        },
        "id": "00u_W0oV3yzx",
        "outputId": "2a2ae335-7a9d-4a1c-da76-5cc2fc4d2a70"
      },
      "id": "00u_W0oV3yzx",
      "execution_count": 89,
      "outputs": [
        {
          "output_type": "stream",
          "name": "stderr",
          "text": [
            "No loss specified in compile() - the model's internal loss computation will be used as the loss. Don't panic - this is a common way to train TensorFlow models in Transformers! To disable this behaviour please pass a loss argument, or explicitly pass `loss=None` if you do not want your model to compute a loss.\n"
          ]
        }
      ]
    },
    {
      "cell_type": "markdown",
      "source": [
        "\n",
        "##Training\n",
        "We are training the model for 3 epochs with minibatches of size 16, using validation set to monitor overfitting. "
      ],
      "metadata": {
        "id": "h1dqEsh_4TkT"
      },
      "id": "h1dqEsh_4TkT"
    },
    {
      "cell_type": "code",
      "source": [
        "model.fit(x=tf_train_set, validation_data=tf_validation_set, epochs=3)"
      ],
      "metadata": {
        "colab": {
          "base_uri": "https://localhost:8080/"
        },
        "id": "yuIxteQ64FiL",
        "outputId": "63016c17-82a4-4c6d-8e65-6452d91957b0"
      },
      "id": "yuIxteQ64FiL",
      "execution_count": 90,
      "outputs": [
        {
          "output_type": "stream",
          "name": "stdout",
          "text": [
            "Epoch 1/3\n",
            "356/356 [==============================] - 76s 147ms/step - loss: 0.4415 - accuracy: 0.8062 - val_loss: 0.4052 - val_accuracy: 0.8304\n",
            "Epoch 2/3\n",
            "356/356 [==============================] - 36s 101ms/step - loss: 0.3197 - accuracy: 0.8750 - val_loss: 0.4242 - val_accuracy: 0.8246\n",
            "Epoch 3/3\n",
            "356/356 [==============================] - 35s 99ms/step - loss: 0.2327 - accuracy: 0.9140 - val_loss: 0.5008 - val_accuracy: 0.8199\n"
          ]
        },
        {
          "output_type": "execute_result",
          "data": {
            "text/plain": [
              "<keras.callbacks.History at 0x7f63134b6400>"
            ]
          },
          "metadata": {},
          "execution_count": 90
        }
      ]
    },
    {
      "cell_type": "markdown",
      "source": [
        "As we can see, the both the loss function and accuracy for the validation set have slightly deteriorated after the second epoch; when we tested fitting for more than 3 epochs the overfitting was even more obvious."
      ],
      "metadata": {
        "id": "QnL5c3qWSfk0"
      },
      "id": "QnL5c3qWSfk0"
    },
    {
      "cell_type": "code",
      "source": [
        "test = pd.read_csv('test.csv')\n",
        "test_clean = removeURL(test)\n",
        "classifier = pipeline(\"sentiment-analysis\", model=model, tokenizer = tokenizer)\n",
        "y_pred = classifier(test['text'].tolist())"
      ],
      "metadata": {
        "id": "Rg7_dIq1C5vc"
      },
      "id": "Rg7_dIq1C5vc",
      "execution_count": 26,
      "outputs": []
    },
    {
      "cell_type": "code",
      "source": [
        "y_pred = pd.DataFrame.from_records(y_pred)['label']\n",
        "indices = list(test['id'])\n",
        "y_pred = pd.DataFrame ({'id':indices,\n",
        "                        'target':y_pred})\n",
        "y_pred['target'] = (y_pred['target'] == \"TRUE\").astype('int')\n",
        "y_pred.to_csv('rf_prediction.csv', index=False)"
      ],
      "metadata": {
        "id": "LFXzup0GOHA1"
      },
      "id": "LFXzup0GOHA1",
      "execution_count": null,
      "outputs": []
    },
    {
      "cell_type": "code",
      "source": [
        "from google.colab import files\n",
        "files.download('rf_prediction.csv')"
      ],
      "metadata": {
        "colab": {
          "base_uri": "https://localhost:8080/",
          "height": 17
        },
        "id": "VmUppEJD780O",
        "outputId": "821a418a-0aa8-4c25-dd9f-917cb7c82ecb"
      },
      "id": "VmUppEJD780O",
      "execution_count": 33,
      "outputs": [
        {
          "output_type": "display_data",
          "data": {
            "text/plain": [
              "<IPython.core.display.Javascript object>"
            ],
            "application/javascript": [
              "\n",
              "    async function download(id, filename, size) {\n",
              "      if (!google.colab.kernel.accessAllowed) {\n",
              "        return;\n",
              "      }\n",
              "      const div = document.createElement('div');\n",
              "      const label = document.createElement('label');\n",
              "      label.textContent = `Downloading \"${filename}\": `;\n",
              "      div.appendChild(label);\n",
              "      const progress = document.createElement('progress');\n",
              "      progress.max = size;\n",
              "      div.appendChild(progress);\n",
              "      document.body.appendChild(div);\n",
              "\n",
              "      const buffers = [];\n",
              "      let downloaded = 0;\n",
              "\n",
              "      const channel = await google.colab.kernel.comms.open(id);\n",
              "      // Send a message to notify the kernel that we're ready.\n",
              "      channel.send({})\n",
              "\n",
              "      for await (const message of channel.messages) {\n",
              "        // Send a message to notify the kernel that we're ready.\n",
              "        channel.send({})\n",
              "        if (message.buffers) {\n",
              "          for (const buffer of message.buffers) {\n",
              "            buffers.push(buffer);\n",
              "            downloaded += buffer.byteLength;\n",
              "            progress.value = downloaded;\n",
              "          }\n",
              "        }\n",
              "      }\n",
              "      const blob = new Blob(buffers, {type: 'application/binary'});\n",
              "      const a = document.createElement('a');\n",
              "      a.href = window.URL.createObjectURL(blob);\n",
              "      a.download = filename;\n",
              "      div.appendChild(a);\n",
              "      a.click();\n",
              "      div.remove();\n",
              "    }\n",
              "  "
            ]
          },
          "metadata": {}
        },
        {
          "output_type": "display_data",
          "data": {
            "text/plain": [
              "<IPython.core.display.Javascript object>"
            ],
            "application/javascript": [
              "download(\"download_1865d2a9-7926-4e86-b522-109c7d22a631\", \"rf_prediction.csv\", 22746)"
            ]
          },
          "metadata": {}
        }
      ]
    }
  ],
  "metadata": {
    "kernelspec": {
      "display_name": "venv",
      "language": "python",
      "name": "venv"
    },
    "language_info": {
      "codemirror_mode": {
        "name": "ipython",
        "version": 3
      },
      "file_extension": ".py",
      "mimetype": "text/x-python",
      "name": "python",
      "nbconvert_exporter": "python",
      "pygments_lexer": "ipython3",
      "version": "3.11.0"
    },
    "colab": {
      "provenance": []
    },
    "accelerator": "GPU",
    "gpuClass": "standard",
    "widgets": {
      "application/vnd.jupyter.widget-state+json": {
        "b497f1937db14049a5dfdf14bc548ef4": {
          "model_module": "@jupyter-widgets/controls",
          "model_name": "HBoxModel",
          "model_module_version": "1.5.0",
          "state": {
            "_dom_classes": [],
            "_model_module": "@jupyter-widgets/controls",
            "_model_module_version": "1.5.0",
            "_model_name": "HBoxModel",
            "_view_count": null,
            "_view_module": "@jupyter-widgets/controls",
            "_view_module_version": "1.5.0",
            "_view_name": "HBoxView",
            "box_style": "",
            "children": [
              "IPY_MODEL_e0640ed6d1a447fa8777c6aa277ddc4f",
              "IPY_MODEL_284e137710a34d33af5d74ee3aa51771",
              "IPY_MODEL_0dfc0e5728614d92af9bfe7ba12a5a49"
            ],
            "layout": "IPY_MODEL_c04b451823524cc69e2633ebecfb3f4f"
          }
        },
        "e0640ed6d1a447fa8777c6aa277ddc4f": {
          "model_module": "@jupyter-widgets/controls",
          "model_name": "HTMLModel",
          "model_module_version": "1.5.0",
          "state": {
            "_dom_classes": [],
            "_model_module": "@jupyter-widgets/controls",
            "_model_module_version": "1.5.0",
            "_model_name": "HTMLModel",
            "_view_count": null,
            "_view_module": "@jupyter-widgets/controls",
            "_view_module_version": "1.5.0",
            "_view_name": "HTMLView",
            "description": "",
            "description_tooltip": null,
            "layout": "IPY_MODEL_b7f76dec16da40059cda2f6ebcf23805",
            "placeholder": "​",
            "style": "IPY_MODEL_e2e77aaa64ce4786ad1ab2f5bf1ae7f2",
            "value": "Map:  88%"
          }
        },
        "284e137710a34d33af5d74ee3aa51771": {
          "model_module": "@jupyter-widgets/controls",
          "model_name": "FloatProgressModel",
          "model_module_version": "1.5.0",
          "state": {
            "_dom_classes": [],
            "_model_module": "@jupyter-widgets/controls",
            "_model_module_version": "1.5.0",
            "_model_name": "FloatProgressModel",
            "_view_count": null,
            "_view_module": "@jupyter-widgets/controls",
            "_view_module_version": "1.5.0",
            "_view_name": "ProgressView",
            "bar_style": "",
            "description": "",
            "description_tooltip": null,
            "layout": "IPY_MODEL_f98dadb811294eeaa894576b75e0a3f5",
            "max": 5709,
            "min": 0,
            "orientation": "horizontal",
            "style": "IPY_MODEL_49c50e6aa1bd4fcaa85af2c149d16fc6",
            "value": 5709
          }
        },
        "0dfc0e5728614d92af9bfe7ba12a5a49": {
          "model_module": "@jupyter-widgets/controls",
          "model_name": "HTMLModel",
          "model_module_version": "1.5.0",
          "state": {
            "_dom_classes": [],
            "_model_module": "@jupyter-widgets/controls",
            "_model_module_version": "1.5.0",
            "_model_name": "HTMLModel",
            "_view_count": null,
            "_view_module": "@jupyter-widgets/controls",
            "_view_module_version": "1.5.0",
            "_view_name": "HTMLView",
            "description": "",
            "description_tooltip": null,
            "layout": "IPY_MODEL_a0591e14c657450190a4a7261c2dd2ea",
            "placeholder": "​",
            "style": "IPY_MODEL_d717c0869bb948c7ae7c8bb3310a52ba",
            "value": " 5000/5709 [00:00&lt;00:00, 13072.56 examples/s]"
          }
        },
        "c04b451823524cc69e2633ebecfb3f4f": {
          "model_module": "@jupyter-widgets/base",
          "model_name": "LayoutModel",
          "model_module_version": "1.2.0",
          "state": {
            "_model_module": "@jupyter-widgets/base",
            "_model_module_version": "1.2.0",
            "_model_name": "LayoutModel",
            "_view_count": null,
            "_view_module": "@jupyter-widgets/base",
            "_view_module_version": "1.2.0",
            "_view_name": "LayoutView",
            "align_content": null,
            "align_items": null,
            "align_self": null,
            "border": null,
            "bottom": null,
            "display": null,
            "flex": null,
            "flex_flow": null,
            "grid_area": null,
            "grid_auto_columns": null,
            "grid_auto_flow": null,
            "grid_auto_rows": null,
            "grid_column": null,
            "grid_gap": null,
            "grid_row": null,
            "grid_template_areas": null,
            "grid_template_columns": null,
            "grid_template_rows": null,
            "height": null,
            "justify_content": null,
            "justify_items": null,
            "left": null,
            "margin": null,
            "max_height": null,
            "max_width": null,
            "min_height": null,
            "min_width": null,
            "object_fit": null,
            "object_position": null,
            "order": null,
            "overflow": null,
            "overflow_x": null,
            "overflow_y": null,
            "padding": null,
            "right": null,
            "top": null,
            "visibility": "hidden",
            "width": null
          }
        },
        "b7f76dec16da40059cda2f6ebcf23805": {
          "model_module": "@jupyter-widgets/base",
          "model_name": "LayoutModel",
          "model_module_version": "1.2.0",
          "state": {
            "_model_module": "@jupyter-widgets/base",
            "_model_module_version": "1.2.0",
            "_model_name": "LayoutModel",
            "_view_count": null,
            "_view_module": "@jupyter-widgets/base",
            "_view_module_version": "1.2.0",
            "_view_name": "LayoutView",
            "align_content": null,
            "align_items": null,
            "align_self": null,
            "border": null,
            "bottom": null,
            "display": null,
            "flex": null,
            "flex_flow": null,
            "grid_area": null,
            "grid_auto_columns": null,
            "grid_auto_flow": null,
            "grid_auto_rows": null,
            "grid_column": null,
            "grid_gap": null,
            "grid_row": null,
            "grid_template_areas": null,
            "grid_template_columns": null,
            "grid_template_rows": null,
            "height": null,
            "justify_content": null,
            "justify_items": null,
            "left": null,
            "margin": null,
            "max_height": null,
            "max_width": null,
            "min_height": null,
            "min_width": null,
            "object_fit": null,
            "object_position": null,
            "order": null,
            "overflow": null,
            "overflow_x": null,
            "overflow_y": null,
            "padding": null,
            "right": null,
            "top": null,
            "visibility": null,
            "width": null
          }
        },
        "e2e77aaa64ce4786ad1ab2f5bf1ae7f2": {
          "model_module": "@jupyter-widgets/controls",
          "model_name": "DescriptionStyleModel",
          "model_module_version": "1.5.0",
          "state": {
            "_model_module": "@jupyter-widgets/controls",
            "_model_module_version": "1.5.0",
            "_model_name": "DescriptionStyleModel",
            "_view_count": null,
            "_view_module": "@jupyter-widgets/base",
            "_view_module_version": "1.2.0",
            "_view_name": "StyleView",
            "description_width": ""
          }
        },
        "f98dadb811294eeaa894576b75e0a3f5": {
          "model_module": "@jupyter-widgets/base",
          "model_name": "LayoutModel",
          "model_module_version": "1.2.0",
          "state": {
            "_model_module": "@jupyter-widgets/base",
            "_model_module_version": "1.2.0",
            "_model_name": "LayoutModel",
            "_view_count": null,
            "_view_module": "@jupyter-widgets/base",
            "_view_module_version": "1.2.0",
            "_view_name": "LayoutView",
            "align_content": null,
            "align_items": null,
            "align_self": null,
            "border": null,
            "bottom": null,
            "display": null,
            "flex": null,
            "flex_flow": null,
            "grid_area": null,
            "grid_auto_columns": null,
            "grid_auto_flow": null,
            "grid_auto_rows": null,
            "grid_column": null,
            "grid_gap": null,
            "grid_row": null,
            "grid_template_areas": null,
            "grid_template_columns": null,
            "grid_template_rows": null,
            "height": null,
            "justify_content": null,
            "justify_items": null,
            "left": null,
            "margin": null,
            "max_height": null,
            "max_width": null,
            "min_height": null,
            "min_width": null,
            "object_fit": null,
            "object_position": null,
            "order": null,
            "overflow": null,
            "overflow_x": null,
            "overflow_y": null,
            "padding": null,
            "right": null,
            "top": null,
            "visibility": null,
            "width": null
          }
        },
        "49c50e6aa1bd4fcaa85af2c149d16fc6": {
          "model_module": "@jupyter-widgets/controls",
          "model_name": "ProgressStyleModel",
          "model_module_version": "1.5.0",
          "state": {
            "_model_module": "@jupyter-widgets/controls",
            "_model_module_version": "1.5.0",
            "_model_name": "ProgressStyleModel",
            "_view_count": null,
            "_view_module": "@jupyter-widgets/base",
            "_view_module_version": "1.2.0",
            "_view_name": "StyleView",
            "bar_color": null,
            "description_width": ""
          }
        },
        "a0591e14c657450190a4a7261c2dd2ea": {
          "model_module": "@jupyter-widgets/base",
          "model_name": "LayoutModel",
          "model_module_version": "1.2.0",
          "state": {
            "_model_module": "@jupyter-widgets/base",
            "_model_module_version": "1.2.0",
            "_model_name": "LayoutModel",
            "_view_count": null,
            "_view_module": "@jupyter-widgets/base",
            "_view_module_version": "1.2.0",
            "_view_name": "LayoutView",
            "align_content": null,
            "align_items": null,
            "align_self": null,
            "border": null,
            "bottom": null,
            "display": null,
            "flex": null,
            "flex_flow": null,
            "grid_area": null,
            "grid_auto_columns": null,
            "grid_auto_flow": null,
            "grid_auto_rows": null,
            "grid_column": null,
            "grid_gap": null,
            "grid_row": null,
            "grid_template_areas": null,
            "grid_template_columns": null,
            "grid_template_rows": null,
            "height": null,
            "justify_content": null,
            "justify_items": null,
            "left": null,
            "margin": null,
            "max_height": null,
            "max_width": null,
            "min_height": null,
            "min_width": null,
            "object_fit": null,
            "object_position": null,
            "order": null,
            "overflow": null,
            "overflow_x": null,
            "overflow_y": null,
            "padding": null,
            "right": null,
            "top": null,
            "visibility": null,
            "width": null
          }
        },
        "d717c0869bb948c7ae7c8bb3310a52ba": {
          "model_module": "@jupyter-widgets/controls",
          "model_name": "DescriptionStyleModel",
          "model_module_version": "1.5.0",
          "state": {
            "_model_module": "@jupyter-widgets/controls",
            "_model_module_version": "1.5.0",
            "_model_name": "DescriptionStyleModel",
            "_view_count": null,
            "_view_module": "@jupyter-widgets/base",
            "_view_module_version": "1.2.0",
            "_view_name": "StyleView",
            "description_width": ""
          }
        },
        "1bbfb7e5d18b4855a7bc5a8f27818a9e": {
          "model_module": "@jupyter-widgets/controls",
          "model_name": "HBoxModel",
          "model_module_version": "1.5.0",
          "state": {
            "_dom_classes": [],
            "_model_module": "@jupyter-widgets/controls",
            "_model_module_version": "1.5.0",
            "_model_name": "HBoxModel",
            "_view_count": null,
            "_view_module": "@jupyter-widgets/controls",
            "_view_module_version": "1.5.0",
            "_view_name": "HBoxView",
            "box_style": "",
            "children": [
              "IPY_MODEL_cb37433de0c44e5182baf55da31caa5d",
              "IPY_MODEL_3647fec9adca4b26aa62d81c566a3cd6",
              "IPY_MODEL_352e62452180430abd3059d9688f2ba5"
            ],
            "layout": "IPY_MODEL_e044527e34d943dab985716734702f14"
          }
        },
        "cb37433de0c44e5182baf55da31caa5d": {
          "model_module": "@jupyter-widgets/controls",
          "model_name": "HTMLModel",
          "model_module_version": "1.5.0",
          "state": {
            "_dom_classes": [],
            "_model_module": "@jupyter-widgets/controls",
            "_model_module_version": "1.5.0",
            "_model_name": "HTMLModel",
            "_view_count": null,
            "_view_module": "@jupyter-widgets/controls",
            "_view_module_version": "1.5.0",
            "_view_name": "HTMLView",
            "description": "",
            "description_tooltip": null,
            "layout": "IPY_MODEL_71685e43c5794ffeab6a23f192357e52",
            "placeholder": "​",
            "style": "IPY_MODEL_f2ba8085fb37463f95bcd2f4dd240432",
            "value": "Map:  53%"
          }
        },
        "3647fec9adca4b26aa62d81c566a3cd6": {
          "model_module": "@jupyter-widgets/controls",
          "model_name": "FloatProgressModel",
          "model_module_version": "1.5.0",
          "state": {
            "_dom_classes": [],
            "_model_module": "@jupyter-widgets/controls",
            "_model_module_version": "1.5.0",
            "_model_name": "FloatProgressModel",
            "_view_count": null,
            "_view_module": "@jupyter-widgets/controls",
            "_view_module_version": "1.5.0",
            "_view_name": "ProgressView",
            "bar_style": "",
            "description": "",
            "description_tooltip": null,
            "layout": "IPY_MODEL_43f3b8f863a64321b166f758e8d8af2f",
            "max": 1904,
            "min": 0,
            "orientation": "horizontal",
            "style": "IPY_MODEL_ea84ede4250342efb3d3748ee283444f",
            "value": 1904
          }
        },
        "352e62452180430abd3059d9688f2ba5": {
          "model_module": "@jupyter-widgets/controls",
          "model_name": "HTMLModel",
          "model_module_version": "1.5.0",
          "state": {
            "_dom_classes": [],
            "_model_module": "@jupyter-widgets/controls",
            "_model_module_version": "1.5.0",
            "_model_name": "HTMLModel",
            "_view_count": null,
            "_view_module": "@jupyter-widgets/controls",
            "_view_module_version": "1.5.0",
            "_view_name": "HTMLView",
            "description": "",
            "description_tooltip": null,
            "layout": "IPY_MODEL_6c97941090244bb899045eeb6cf6c06b",
            "placeholder": "​",
            "style": "IPY_MODEL_401a4f7445c744abbe40adcbc602467b",
            "value": " 1000/1904 [00:00&lt;00:00, 8506.65 examples/s]"
          }
        },
        "e044527e34d943dab985716734702f14": {
          "model_module": "@jupyter-widgets/base",
          "model_name": "LayoutModel",
          "model_module_version": "1.2.0",
          "state": {
            "_model_module": "@jupyter-widgets/base",
            "_model_module_version": "1.2.0",
            "_model_name": "LayoutModel",
            "_view_count": null,
            "_view_module": "@jupyter-widgets/base",
            "_view_module_version": "1.2.0",
            "_view_name": "LayoutView",
            "align_content": null,
            "align_items": null,
            "align_self": null,
            "border": null,
            "bottom": null,
            "display": null,
            "flex": null,
            "flex_flow": null,
            "grid_area": null,
            "grid_auto_columns": null,
            "grid_auto_flow": null,
            "grid_auto_rows": null,
            "grid_column": null,
            "grid_gap": null,
            "grid_row": null,
            "grid_template_areas": null,
            "grid_template_columns": null,
            "grid_template_rows": null,
            "height": null,
            "justify_content": null,
            "justify_items": null,
            "left": null,
            "margin": null,
            "max_height": null,
            "max_width": null,
            "min_height": null,
            "min_width": null,
            "object_fit": null,
            "object_position": null,
            "order": null,
            "overflow": null,
            "overflow_x": null,
            "overflow_y": null,
            "padding": null,
            "right": null,
            "top": null,
            "visibility": "hidden",
            "width": null
          }
        },
        "71685e43c5794ffeab6a23f192357e52": {
          "model_module": "@jupyter-widgets/base",
          "model_name": "LayoutModel",
          "model_module_version": "1.2.0",
          "state": {
            "_model_module": "@jupyter-widgets/base",
            "_model_module_version": "1.2.0",
            "_model_name": "LayoutModel",
            "_view_count": null,
            "_view_module": "@jupyter-widgets/base",
            "_view_module_version": "1.2.0",
            "_view_name": "LayoutView",
            "align_content": null,
            "align_items": null,
            "align_self": null,
            "border": null,
            "bottom": null,
            "display": null,
            "flex": null,
            "flex_flow": null,
            "grid_area": null,
            "grid_auto_columns": null,
            "grid_auto_flow": null,
            "grid_auto_rows": null,
            "grid_column": null,
            "grid_gap": null,
            "grid_row": null,
            "grid_template_areas": null,
            "grid_template_columns": null,
            "grid_template_rows": null,
            "height": null,
            "justify_content": null,
            "justify_items": null,
            "left": null,
            "margin": null,
            "max_height": null,
            "max_width": null,
            "min_height": null,
            "min_width": null,
            "object_fit": null,
            "object_position": null,
            "order": null,
            "overflow": null,
            "overflow_x": null,
            "overflow_y": null,
            "padding": null,
            "right": null,
            "top": null,
            "visibility": null,
            "width": null
          }
        },
        "f2ba8085fb37463f95bcd2f4dd240432": {
          "model_module": "@jupyter-widgets/controls",
          "model_name": "DescriptionStyleModel",
          "model_module_version": "1.5.0",
          "state": {
            "_model_module": "@jupyter-widgets/controls",
            "_model_module_version": "1.5.0",
            "_model_name": "DescriptionStyleModel",
            "_view_count": null,
            "_view_module": "@jupyter-widgets/base",
            "_view_module_version": "1.2.0",
            "_view_name": "StyleView",
            "description_width": ""
          }
        },
        "43f3b8f863a64321b166f758e8d8af2f": {
          "model_module": "@jupyter-widgets/base",
          "model_name": "LayoutModel",
          "model_module_version": "1.2.0",
          "state": {
            "_model_module": "@jupyter-widgets/base",
            "_model_module_version": "1.2.0",
            "_model_name": "LayoutModel",
            "_view_count": null,
            "_view_module": "@jupyter-widgets/base",
            "_view_module_version": "1.2.0",
            "_view_name": "LayoutView",
            "align_content": null,
            "align_items": null,
            "align_self": null,
            "border": null,
            "bottom": null,
            "display": null,
            "flex": null,
            "flex_flow": null,
            "grid_area": null,
            "grid_auto_columns": null,
            "grid_auto_flow": null,
            "grid_auto_rows": null,
            "grid_column": null,
            "grid_gap": null,
            "grid_row": null,
            "grid_template_areas": null,
            "grid_template_columns": null,
            "grid_template_rows": null,
            "height": null,
            "justify_content": null,
            "justify_items": null,
            "left": null,
            "margin": null,
            "max_height": null,
            "max_width": null,
            "min_height": null,
            "min_width": null,
            "object_fit": null,
            "object_position": null,
            "order": null,
            "overflow": null,
            "overflow_x": null,
            "overflow_y": null,
            "padding": null,
            "right": null,
            "top": null,
            "visibility": null,
            "width": null
          }
        },
        "ea84ede4250342efb3d3748ee283444f": {
          "model_module": "@jupyter-widgets/controls",
          "model_name": "ProgressStyleModel",
          "model_module_version": "1.5.0",
          "state": {
            "_model_module": "@jupyter-widgets/controls",
            "_model_module_version": "1.5.0",
            "_model_name": "ProgressStyleModel",
            "_view_count": null,
            "_view_module": "@jupyter-widgets/base",
            "_view_module_version": "1.2.0",
            "_view_name": "StyleView",
            "bar_color": null,
            "description_width": ""
          }
        },
        "6c97941090244bb899045eeb6cf6c06b": {
          "model_module": "@jupyter-widgets/base",
          "model_name": "LayoutModel",
          "model_module_version": "1.2.0",
          "state": {
            "_model_module": "@jupyter-widgets/base",
            "_model_module_version": "1.2.0",
            "_model_name": "LayoutModel",
            "_view_count": null,
            "_view_module": "@jupyter-widgets/base",
            "_view_module_version": "1.2.0",
            "_view_name": "LayoutView",
            "align_content": null,
            "align_items": null,
            "align_self": null,
            "border": null,
            "bottom": null,
            "display": null,
            "flex": null,
            "flex_flow": null,
            "grid_area": null,
            "grid_auto_columns": null,
            "grid_auto_flow": null,
            "grid_auto_rows": null,
            "grid_column": null,
            "grid_gap": null,
            "grid_row": null,
            "grid_template_areas": null,
            "grid_template_columns": null,
            "grid_template_rows": null,
            "height": null,
            "justify_content": null,
            "justify_items": null,
            "left": null,
            "margin": null,
            "max_height": null,
            "max_width": null,
            "min_height": null,
            "min_width": null,
            "object_fit": null,
            "object_position": null,
            "order": null,
            "overflow": null,
            "overflow_x": null,
            "overflow_y": null,
            "padding": null,
            "right": null,
            "top": null,
            "visibility": null,
            "width": null
          }
        },
        "401a4f7445c744abbe40adcbc602467b": {
          "model_module": "@jupyter-widgets/controls",
          "model_name": "DescriptionStyleModel",
          "model_module_version": "1.5.0",
          "state": {
            "_model_module": "@jupyter-widgets/controls",
            "_model_module_version": "1.5.0",
            "_model_name": "DescriptionStyleModel",
            "_view_count": null,
            "_view_module": "@jupyter-widgets/base",
            "_view_module_version": "1.2.0",
            "_view_name": "StyleView",
            "description_width": ""
          }
        }
      }
    }
  },
  "nbformat": 4,
  "nbformat_minor": 5
}